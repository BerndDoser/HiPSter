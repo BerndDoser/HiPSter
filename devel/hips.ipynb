{
 "cells": [
  {
   "cell_type": "code",
   "execution_count": null,
   "metadata": {},
   "outputs": [],
   "source": [
    "import healpy\n",
    "import numpy as np\n",
    "\n",
    "i = 0\n",
    "vector = healpy.pix2vec(2**i, range(12 * 4**i), nest=True)\n",
    "np.array(vector).shape"
   ]
  },
  {
   "cell_type": "code",
   "execution_count": null,
   "metadata": {},
   "outputs": [],
   "source": [
    "list(range(12 * 4**i))"
   ]
  },
  {
   "cell_type": "code",
   "execution_count": null,
   "metadata": {},
   "outputs": [],
   "source": [
    "ang = healpy.pix2ang(2**i, range(12 * 4**i), nest=True, lonlat=True)\n",
    "ang"
   ]
  },
  {
   "cell_type": "code",
   "execution_count": null,
   "metadata": {},
   "outputs": [],
   "source": [
    "values, counts = np.unique(vector[2], return_counts=True)\n",
    "values, counts"
   ]
  },
  {
   "cell_type": "code",
   "execution_count": null,
   "metadata": {},
   "outputs": [],
   "source": [
    "import matplotlib.pyplot as plt\n",
    "\n",
    "fig = plt.figure()\n",
    "ax = fig.add_subplot(projection=\"3d\")\n",
    "\n",
    "# Draw sphere\n",
    "theta, phi = np.linspace(0, 2 * np.pi, 20), np.linspace(0, np.pi, 20)\n",
    "THETA, PHI = np.meshgrid(theta, phi)\n",
    "X, Y, Z = np.sin(PHI) * np.cos(THETA), np.sin(PHI) * np.sin(THETA), np.cos(PHI)\n",
    "ax.plot_wireframe(X, Y, Z, linewidth=1, alpha=0.25, color=\"gray\")\n",
    "\n",
    "# Plot the vector on the 3D sphere\n",
    "ax.scatter(vector[0], vector[1], vector[2], color=\"r\", s=10)\n",
    "\n",
    "plt.show()"
   ]
  }
 ],
 "metadata": {
  "kernelspec": {
   "display_name": ".venv",
   "language": "python",
   "name": "python3"
  },
  "language_info": {
   "codemirror_mode": {
    "name": "ipython",
    "version": 3
   },
   "file_extension": ".py",
   "mimetype": "text/x-python",
   "name": "python",
   "nbconvert_exporter": "python",
   "pygments_lexer": "ipython3",
   "version": "3.12.3"
  }
 },
 "nbformat": 4,
 "nbformat_minor": 2
}

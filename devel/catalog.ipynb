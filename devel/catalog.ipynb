{
 "cells": [
  {
   "cell_type": "code",
   "execution_count": 1,
   "metadata": {},
   "outputs": [
    {
     "name": "stdout",
     "output_type": "stream",
     "text": [
      "b'(1, 344)'\n"
     ]
    }
   ],
   "source": [
    "import pyarrow.dataset as ds\n",
    "\n",
    "# dataset = ds.dataset(\"/home/doserbd/data/gaia/xp_sampled_mean_spectrum/parquet/XpSampledMeanSpectrum_000000-003111.parquet\",\n",
    "dataset = ds.dataset(\"../tests/data/XpSampledMeanSpectrum\", format=\"parquet\")\n",
    "print(dataset.to_table().schema.metadata[b\"flux_shape\"])"
   ]
  },
  {
   "cell_type": "code",
   "execution_count": 2,
   "metadata": {},
   "outputs": [
    {
     "name": "stderr",
     "output_type": "stream",
     "text": [
      "\u001b[0;93m2025-01-26 23:02:28.967780956 [W:onnxruntime:, graph.cc:109 MergeShapeInfo] Error merging shape info for output. 'encoder_1' source:{} target:{1}. Falling back to lenient merge.\u001b[m\n"
     ]
    }
   ],
   "source": [
    "from hipster import CatalogGenerator, Inference\n",
    "\n",
    "catalog_generator = CatalogGenerator(\n",
    "    encoder=Inference(\"../tests/models/vae_encoder.onnx\"),\n",
    "    data_directory=\"../tests/data/XpSampledMeanSpectrum\",\n",
    "    url=\"http://localhost:8083\",\n",
    "    title=\"gaia\",\n",
    ")\n",
    "\n",
    "catalog = catalog_generator()"
   ]
  },
  {
   "cell_type": "code",
   "execution_count": 3,
   "metadata": {},
   "outputs": [],
   "source": [
    "from astropy.io.votable import writeto\n",
    "from astropy.table import Table\n",
    "\n",
    "table = Table.from_pandas(catalog)\n",
    "writeto(table, \"catalog.vot\")"
   ]
  },
  {
   "cell_type": "code",
   "execution_count": 4,
   "metadata": {},
   "outputs": [
    {
     "data": {
      "text/plain": [
       "array([[[0. , 0.2, 0.4],\n",
       "        [0.6, 0.8, 1. ]],\n",
       "\n",
       "       [[0. , 0.2, 0.4],\n",
       "        [0.6, 0.8, 1. ]]], dtype=float32)"
      ]
     },
     "execution_count": 4,
     "metadata": {},
     "output_type": "execute_result"
    }
   ],
   "source": [
    "import numpy as np\n",
    "flux = np.array([[[1, 2, 3], [4, 5, 6]], [[7, 8, 9], [10, 11, 12]]], dtype=np.float32)\n",
    "\n",
    "for i, x in enumerate(flux):\n",
    "    flux[i] = (x - x.min()) / (x.max() - x.min())\n",
    "\n",
    "flux"
   ]
  },
  {
   "cell_type": "code",
   "execution_count": 5,
   "metadata": {},
   "outputs": [
    {
     "name": "stderr",
     "output_type": "stream",
     "text": [
      "\u001b[0;93m2025-01-26 23:02:29.017096435 [W:onnxruntime:, graph.cc:109 MergeShapeInfo] Error merging shape info for output. 'encoder_1' source:{} target:{1}. Falling back to lenient merge.\u001b[m\n"
     ]
    }
   ],
   "source": [
    "from hipster import ImageGenerator, Inference\n",
    "\n",
    "ImageGenerator(\n",
    "    encoder=Inference(\"../tests/models/vae_encoder.onnx\"),\n",
    "    decoder=Inference(\"../tests/models/vae_decoder.onnx\"),\n",
    "    data_directory=\"../tests/data/XpSampledMeanSpectrum\",\n",
    "    batch_size=2,\n",
    ")()"
   ]
  }
 ],
 "metadata": {
  "kernelspec": {
   "display_name": "hipster-6G3EPOia-py3.12",
   "language": "python",
   "name": "python3"
  },
  "language_info": {
   "codemirror_mode": {
    "name": "ipython",
    "version": 3
   },
   "file_extension": ".py",
   "mimetype": "text/x-python",
   "name": "python",
   "nbconvert_exporter": "python",
   "pygments_lexer": "ipython3",
   "version": "3.12.3"
  }
 },
 "nbformat": 4,
 "nbformat_minor": 2
}

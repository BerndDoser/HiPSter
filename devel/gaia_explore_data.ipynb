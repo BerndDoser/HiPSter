{
 "cells": [
  {
   "cell_type": "code",
   "execution_count": 2,
   "metadata": {},
   "outputs": [
    {
     "data": {
      "text/plain": [
       "484357"
      ]
     },
     "execution_count": 2,
     "metadata": {},
     "output_type": "execute_result"
    }
   ],
   "source": [
    "import pyarrow.dataset as ds\n",
    "# dataset = ds.dataset(\"../tests/data/XpSampledMeanSpectrum\", format=\"parquet\")\n",
    "# dataset = ds.dataset(\"/home/doserbd/data/gaia/xp_sampled_mean_spectrum/parquet\", format=\"parquet\")\n",
    "# dataset = ds.dataset(\"/hits/basement/its/doserbd/data/gaia/xp_sampled_mean_spectrum/parquet\", format=\"parquet\")\n",
    "dataset = ds.dataset(\"/home/doserbd/data/gaia/xp_calibrated/parquet_subset\", format=\"parquet\")\n",
    "dataset.count_rows()"
   ]
  },
  {
   "cell_type": "code",
   "execution_count": 7,
   "metadata": {},
   "outputs": [
    {
     "data": {
      "text/plain": [
       "115457"
      ]
     },
     "execution_count": 7,
     "metadata": {},
     "output_type": "execute_result"
    }
   ],
   "source": [
    "# scanner = dataset.scanner(filter=ds.field(\"source_id\") == 3403822089581389184)\n",
    "scanner = dataset.scanner()\n",
    "scanner.count_rows()"
   ]
  },
  {
   "cell_type": "code",
   "execution_count": 12,
   "metadata": {},
   "outputs": [],
   "source": [
    "table = dataset.take([0, 20])"
   ]
  },
  {
   "cell_type": "code",
   "execution_count": 13,
   "metadata": {},
   "outputs": [
    {
     "data": {
      "text/html": [
       "<div>\n",
       "<style scoped>\n",
       "    .dataframe tbody tr th:only-of-type {\n",
       "        vertical-align: middle;\n",
       "    }\n",
       "\n",
       "    .dataframe tbody tr th {\n",
       "        vertical-align: top;\n",
       "    }\n",
       "\n",
       "    .dataframe thead th {\n",
       "        text-align: right;\n",
       "    }\n",
       "</style>\n",
       "<table border=\"1\" class=\"dataframe\">\n",
       "  <thead>\n",
       "    <tr style=\"text-align: right;\">\n",
       "      <th></th>\n",
       "      <th>source_id</th>\n",
       "      <th>solution_id</th>\n",
       "      <th>ra</th>\n",
       "      <th>dec</th>\n",
       "      <th>flux</th>\n",
       "      <th>flux_error</th>\n",
       "    </tr>\n",
       "  </thead>\n",
       "  <tbody>\n",
       "    <tr>\n",
       "      <th>0</th>\n",
       "      <td>38655544960</td>\n",
       "      <td>4545469030156206081</td>\n",
       "      <td>45.004978</td>\n",
       "      <td>0.019880</td>\n",
       "      <td>[0.0015713279, 0.0010829632, 0.0008246151, 0.0...</td>\n",
       "      <td>[0.00031670806, 0.00024497847, 0.00019980298, ...</td>\n",
       "    </tr>\n",
       "    <tr>\n",
       "      <th>1</th>\n",
       "      <td>25361782720768</td>\n",
       "      <td>4545469030156206081</td>\n",
       "      <td>44.763369</td>\n",
       "      <td>0.352911</td>\n",
       "      <td>[0.0006885958, 0.0003002073, 0.0004570768, 0.0...</td>\n",
       "      <td>[0.0005283897, 0.00038306543, 0.00030201476, 0...</td>\n",
       "    </tr>\n",
       "  </tbody>\n",
       "</table>\n",
       "</div>"
      ],
      "text/plain": [
       "        source_id          solution_id         ra       dec  \\\n",
       "0     38655544960  4545469030156206081  45.004978  0.019880   \n",
       "1  25361782720768  4545469030156206081  44.763369  0.352911   \n",
       "\n",
       "                                                flux  \\\n",
       "0  [0.0015713279, 0.0010829632, 0.0008246151, 0.0...   \n",
       "1  [0.0006885958, 0.0003002073, 0.0004570768, 0.0...   \n",
       "\n",
       "                                          flux_error  \n",
       "0  [0.00031670806, 0.00024497847, 0.00019980298, ...  \n",
       "1  [0.0005283897, 0.00038306543, 0.00030201476, 0...  "
      ]
     },
     "execution_count": 13,
     "metadata": {},
     "output_type": "execute_result"
    }
   ],
   "source": [
    "table.to_pandas()"
   ]
  },
  {
   "cell_type": "code",
   "execution_count": 21,
   "metadata": {},
   "outputs": [
    {
     "name": "stdout",
     "output_type": "stream",
     "text": [
      "                                                         0/1 [00:00<?, ?spec/s]\r"
     ]
    },
    {
     "data": {
      "text/html": [
       "<div>\n",
       "<style scoped>\n",
       "    .dataframe tbody tr th:only-of-type {\n",
       "        vertical-align: middle;\n",
       "    }\n",
       "\n",
       "    .dataframe tbody tr th {\n",
       "        vertical-align: top;\n",
       "    }\n",
       "\n",
       "    .dataframe thead th {\n",
       "        text-align: right;\n",
       "    }\n",
       "</style>\n",
       "<table border=\"1\" class=\"dataframe\">\n",
       "  <thead>\n",
       "    <tr style=\"text-align: right;\">\n",
       "      <th></th>\n",
       "      <th>source_id</th>\n",
       "      <th>flux</th>\n",
       "      <th>flux_error</th>\n",
       "    </tr>\n",
       "  </thead>\n",
       "  <tbody>\n",
       "    <tr>\n",
       "      <th>0</th>\n",
       "      <td>1976052403508933632</td>\n",
       "      <td>[3.9552834041961765e-14, 3.762605010048418e-14...</td>\n",
       "      <td>[3.281186070966552e-15, 2.7270085807094526e-15...</td>\n",
       "    </tr>\n",
       "  </tbody>\n",
       "</table>\n",
       "</div>"
      ],
      "text/plain": [
       "             source_id                                               flux  \\\n",
       "0  1976052403508933632  [3.9552834041961765e-14, 3.762605010048418e-14...   \n",
       "\n",
       "                                          flux_error  \n",
       "0  [3.281186070966552e-15, 2.7270085807094526e-15...  "
      ]
     },
     "execution_count": 21,
     "metadata": {},
     "output_type": "execute_result"
    }
   ],
   "source": [
    "from gaiaxpy import calibrate\n",
    "import numpy as np\n",
    "\n",
    "calibrated_spectrum, sampling = calibrate(\n",
    "    [1976052403508933632], sampling=np.arange(336, 1021, 2), save_file=False\n",
    ")\n",
    "calibrated_spectrum"
   ]
  }
 ],
 "metadata": {
  "kernelspec": {
   "display_name": "hipster-6G3EPOia-py3.12",
   "language": "python",
   "name": "python3"
  },
  "language_info": {
   "codemirror_mode": {
    "name": "ipython",
    "version": 3
   },
   "file_extension": ".py",
   "mimetype": "text/x-python",
   "name": "python",
   "nbconvert_exporter": "python",
   "pygments_lexer": "ipython3",
   "version": "3.12.3"
  }
 },
 "nbformat": 4,
 "nbformat_minor": 2
}

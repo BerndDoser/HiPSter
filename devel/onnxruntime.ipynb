{
 "cells": [
  {
   "cell_type": "code",
   "execution_count": 1,
   "metadata": {},
   "outputs": [],
   "source": [
    "import onnxruntime as ort\n",
    "\n",
    "ort.preload_dlls()\n",
    "rt = ort.InferenceSession(\n",
    "    \"/home/doserbd/git/Spherinator/gaia/gaia-calibrated-v2/decoder.onnx\",\n",
    "    providers=[\"CUDAExecutionProvider\"],\n",
    "    # providers=[\"TensorrtExecutionProvider\", \"CUDAExecutionProvider\"],\n",
    ")"
   ]
  },
  {
   "cell_type": "code",
   "execution_count": 3,
   "metadata": {},
   "outputs": [],
   "source": [
    "import numpy as np\n",
    "\n",
    "phi = np.linspace(0, np.pi, 64)\n",
    "theta = np.linspace(0, 2 * np.pi, 32)\n",
    "phi, theta = np.meshgrid(phi, theta)\n",
    "phi = phi.flatten()\n",
    "theta = theta.flatten()\n",
    "input = np.vstack(\n",
    "    (np.sin(phi) * np.cos(theta), np.sin(phi) * np.sin(theta), np.cos(phi))\n",
    ").T.astype(np.float32)\n",
    "output = rt.run(None, {\"x\": input})[0]"
   ]
  }
 ],
 "metadata": {
  "kernelspec": {
   "display_name": ".venv",
   "language": "python",
   "name": "python3"
  },
  "language_info": {
   "codemirror_mode": {
    "name": "ipython",
    "version": 3
   },
   "file_extension": ".py",
   "mimetype": "text/x-python",
   "name": "python",
   "nbconvert_exporter": "python",
   "pygments_lexer": "ipython3",
   "version": "3.12.3"
  }
 },
 "nbformat": 4,
 "nbformat_minor": 2
}
